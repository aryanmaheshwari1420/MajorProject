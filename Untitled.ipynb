{
 "cells": [
  {
   "cell_type": "code",
   "execution_count": null,
   "id": "ace87262",
   "metadata": {},
   "outputs": [],
   "source": [
    "\n",
    "# # Recommendation Function\n",
    "# def get_recommendations(user_info):\n",
    "#     user_info_df = pd.DataFrame(user_info, index=[0])\n",
    "\n",
    "#     # Ensure columns are consistent with the model's feature names\n",
    "#     user_info_encoded = pd.get_dummies(user_info_df, columns=['gender', 'education_level', 'difficulty', 'category'])\n",
    "#     user_info_encoded = user_info_encoded.reindex(columns=X_train.columns, fill_value=0)\n",
    "\n",
    "#     # Make predictions for the new user\n",
    "#     prediction = model.predict(user_info_encoded)\n",
    "\n",
    "#     if prediction == 1:\n",
    "#         user_courses = merged_df[merged_df['user_id'] == user_info['user_id']]['course_id']\n",
    "\n",
    "#         if not user_courses.empty:\n",
    "#             recommendations = []\n",
    "\n",
    "#             # Calculate cosine similarity between the user and all courses\n",
    "#             sim_scores = cosine_similarity([user_info_encoded.iloc[0]], X_encoded)[0]\n",
    "#             sim_scores = sorted(list(enumerate(sim_scores)), key=lambda x: x[1], reverse=True)\n",
    "            \n",
    "#             for i in range(3):  # Adjust the range based on how many recommendations you want\n",
    "#                 course_idx = sim_scores[i][0]\n",
    "#                 recommendations.append(courses_df['course_title'].iloc[course_idx])\n",
    "\n",
    "#             return recommendations\n",
    "#         else:\n",
    "#             return \"No courses taken by the user, cannot provide recommendations.\"\n",
    "#     else:\n",
    "#         return \"User not likely to take a course.\"\n",
    "\n",
    "# # Example Usage\n",
    "# new_user_info = {'user_id': 101, 'age': 30, 'gender': 'Female', 'education_level': 'Master',\n",
    "#                  'difficulty': 'Intermediate', 'category': 'Programming', 'duration': 15,\n",
    "#                  'course_description': fake.text()}\n",
    "\n",
    "# recommended_courses = get_recommendations(new_user_info)\n",
    "# print(f'Recommended Courses: {recommended_courses}')"
   ]
  }
 ],
 "metadata": {
  "kernelspec": {
   "display_name": "Python 3",
   "language": "python",
   "name": "python3"
  },
  "language_info": {
   "codemirror_mode": {
    "name": "ipython",
    "version": 3
   },
   "file_extension": ".py",
   "mimetype": "text/x-python",
   "name": "python",
   "nbconvert_exporter": "python",
   "pygments_lexer": "ipython3",
   "version": "3.8.8"
  }
 },
 "nbformat": 4,
 "nbformat_minor": 5
}
